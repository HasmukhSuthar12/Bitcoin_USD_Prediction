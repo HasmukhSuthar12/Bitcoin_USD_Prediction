{
 "cells": [
  {
   "cell_type": "markdown",
   "metadata": {},
   "source": [
    "# Bitcoin USD Prediction"
   ]
  },
  {
   "cell_type": "code",
   "execution_count": 1,
   "metadata": {
    "colab": {
     "base_uri": "https://localhost:8080/",
     "height": 332
    },
    "id": "7uZgK4ik08uC",
    "outputId": "eab2fc07-1385-47b6-8a89-02d8eea505bc"
   },
   "outputs": [],
   "source": [
    "#import all requried libraries\n",
    "import pandas as pd\n",
    "import numpy as np\n",
    "import seaborn as sns\n",
    "import matplotlib.pyplot as plt\n",
    "from keras.models import Sequential\n",
    "from keras.layers import Dense, LSTM\n",
    "\n",
    "import warnings\n",
    "warnings.filterwarnings(\"ignore\")"
   ]
  },
  {
   "cell_type": "code",
   "execution_count": 2,
   "metadata": {
    "colab": {
     "base_uri": "https://localhost:8080/"
    },
    "id": "BRAf05eVpm_E",
    "outputId": "998013e8-f113-4210-ae3d-c09fe6843b87"
   },
   "outputs": [
    {
     "data": {
      "text/html": [
       "<div>\n",
       "<style scoped>\n",
       "    .dataframe tbody tr th:only-of-type {\n",
       "        vertical-align: middle;\n",
       "    }\n",
       "\n",
       "    .dataframe tbody tr th {\n",
       "        vertical-align: top;\n",
       "    }\n",
       "\n",
       "    .dataframe thead th {\n",
       "        text-align: right;\n",
       "    }\n",
       "</style>\n",
       "<table border=\"1\" class=\"dataframe\">\n",
       "  <thead>\n",
       "    <tr style=\"text-align: right;\">\n",
       "      <th></th>\n",
       "      <th>Date</th>\n",
       "      <th>Open</th>\n",
       "      <th>High</th>\n",
       "      <th>Low</th>\n",
       "      <th>Close</th>\n",
       "      <th>Adj Close</th>\n",
       "      <th>Volume</th>\n",
       "    </tr>\n",
       "  </thead>\n",
       "  <tbody>\n",
       "    <tr>\n",
       "      <th>0</th>\n",
       "      <td>2014-09-17</td>\n",
       "      <td>465.864014</td>\n",
       "      <td>468.174011</td>\n",
       "      <td>452.421997</td>\n",
       "      <td>457.334015</td>\n",
       "      <td>457.334015</td>\n",
       "      <td>21056800</td>\n",
       "    </tr>\n",
       "    <tr>\n",
       "      <th>1</th>\n",
       "      <td>2014-09-18</td>\n",
       "      <td>456.859985</td>\n",
       "      <td>456.859985</td>\n",
       "      <td>413.104004</td>\n",
       "      <td>424.440002</td>\n",
       "      <td>424.440002</td>\n",
       "      <td>34483200</td>\n",
       "    </tr>\n",
       "    <tr>\n",
       "      <th>2</th>\n",
       "      <td>2014-09-19</td>\n",
       "      <td>424.102997</td>\n",
       "      <td>427.834991</td>\n",
       "      <td>384.532013</td>\n",
       "      <td>394.795990</td>\n",
       "      <td>394.795990</td>\n",
       "      <td>37919700</td>\n",
       "    </tr>\n",
       "    <tr>\n",
       "      <th>3</th>\n",
       "      <td>2014-09-20</td>\n",
       "      <td>394.673004</td>\n",
       "      <td>423.295990</td>\n",
       "      <td>389.882996</td>\n",
       "      <td>408.903992</td>\n",
       "      <td>408.903992</td>\n",
       "      <td>36863600</td>\n",
       "    </tr>\n",
       "    <tr>\n",
       "      <th>4</th>\n",
       "      <td>2014-09-21</td>\n",
       "      <td>408.084991</td>\n",
       "      <td>412.425995</td>\n",
       "      <td>393.181000</td>\n",
       "      <td>398.821014</td>\n",
       "      <td>398.821014</td>\n",
       "      <td>26580100</td>\n",
       "    </tr>\n",
       "  </tbody>\n",
       "</table>\n",
       "</div>"
      ],
      "text/plain": [
       "         Date        Open        High         Low       Close   Adj Close  \\\n",
       "0  2014-09-17  465.864014  468.174011  452.421997  457.334015  457.334015   \n",
       "1  2014-09-18  456.859985  456.859985  413.104004  424.440002  424.440002   \n",
       "2  2014-09-19  424.102997  427.834991  384.532013  394.795990  394.795990   \n",
       "3  2014-09-20  394.673004  423.295990  389.882996  408.903992  408.903992   \n",
       "4  2014-09-21  408.084991  412.425995  393.181000  398.821014  398.821014   \n",
       "\n",
       "     Volume  \n",
       "0  21056800  \n",
       "1  34483200  \n",
       "2  37919700  \n",
       "3  36863600  \n",
       "4  26580100  "
      ]
     },
     "execution_count": 2,
     "metadata": {},
     "output_type": "execute_result"
    }
   ],
   "source": [
    "#Load bitcon price data for 2014-09-17 to 2022-07-03\n",
    "data = pd.read_csv('BTC-USD.csv')\n",
    "data.head()"
   ]
  },
  {
   "cell_type": "markdown",
   "metadata": {},
   "source": [
    "# Information"
   ]
  },
  {
   "cell_type": "code",
   "execution_count": 3,
   "metadata": {},
   "outputs": [
    {
     "name": "stdout",
     "output_type": "stream",
     "text": [
      "<class 'pandas.core.frame.DataFrame'>\n",
      "RangeIndex: 2847 entries, 0 to 2846\n",
      "Data columns (total 7 columns):\n",
      " #   Column     Non-Null Count  Dtype  \n",
      "---  ------     --------------  -----  \n",
      " 0   Date       2847 non-null   object \n",
      " 1   Open       2847 non-null   float64\n",
      " 2   High       2847 non-null   float64\n",
      " 3   Low        2847 non-null   float64\n",
      " 4   Close      2847 non-null   float64\n",
      " 5   Adj Close  2847 non-null   float64\n",
      " 6   Volume     2847 non-null   int64  \n",
      "dtypes: float64(5), int64(1), object(1)\n",
      "memory usage: 155.8+ KB\n"
     ]
    }
   ],
   "source": [
    "#info of datatypes and dimensions\n",
    "data.info()"
   ]
  },
  {
   "cell_type": "code",
   "execution_count": 4,
   "metadata": {},
   "outputs": [
    {
     "data": {
      "text/plain": [
       "Date         0\n",
       "Open         0\n",
       "High         0\n",
       "Low          0\n",
       "Close        0\n",
       "Adj Close    0\n",
       "Volume       0\n",
       "dtype: int64"
      ]
     },
     "execution_count": 4,
     "metadata": {},
     "output_type": "execute_result"
    }
   ],
   "source": [
    "#missing values\n",
    "data.isnull().sum()"
   ]
  },
  {
   "cell_type": "code",
   "execution_count": 5,
   "metadata": {
    "colab": {
     "base_uri": "https://localhost:8080/",
     "height": 641
    },
    "id": "asTo2ZYC0lHr",
    "outputId": "eeeebaf1-f047-4ac9-ec27-b0ba707aa26f"
   },
   "outputs": [
    {
     "data": {
      "text/html": [
       "<div>\n",
       "<style scoped>\n",
       "    .dataframe tbody tr th:only-of-type {\n",
       "        vertical-align: middle;\n",
       "    }\n",
       "\n",
       "    .dataframe tbody tr th {\n",
       "        vertical-align: top;\n",
       "    }\n",
       "\n",
       "    .dataframe thead th {\n",
       "        text-align: right;\n",
       "    }\n",
       "</style>\n",
       "<table border=\"1\" class=\"dataframe\">\n",
       "  <thead>\n",
       "    <tr style=\"text-align: right;\">\n",
       "      <th></th>\n",
       "      <th>Open</th>\n",
       "      <th>High</th>\n",
       "      <th>Low</th>\n",
       "      <th>Close</th>\n",
       "      <th>Adj Close</th>\n",
       "      <th>Volume</th>\n",
       "    </tr>\n",
       "  </thead>\n",
       "  <tbody>\n",
       "    <tr>\n",
       "      <th>count</th>\n",
       "      <td>2847.000000</td>\n",
       "      <td>2847.000000</td>\n",
       "      <td>2847.000000</td>\n",
       "      <td>2847.000000</td>\n",
       "      <td>2847.000000</td>\n",
       "      <td>2.847000e+03</td>\n",
       "    </tr>\n",
       "    <tr>\n",
       "      <th>mean</th>\n",
       "      <td>12424.499840</td>\n",
       "      <td>12747.549097</td>\n",
       "      <td>12061.046950</td>\n",
       "      <td>12429.378825</td>\n",
       "      <td>12429.378825</td>\n",
       "      <td>1.541473e+10</td>\n",
       "    </tr>\n",
       "    <tr>\n",
       "      <th>std</th>\n",
       "      <td>16592.544651</td>\n",
       "      <td>17020.981874</td>\n",
       "      <td>16094.974801</td>\n",
       "      <td>16587.755320</td>\n",
       "      <td>16587.755320</td>\n",
       "      <td>1.992591e+10</td>\n",
       "    </tr>\n",
       "    <tr>\n",
       "      <th>min</th>\n",
       "      <td>176.897003</td>\n",
       "      <td>211.731003</td>\n",
       "      <td>171.509995</td>\n",
       "      <td>178.102997</td>\n",
       "      <td>178.102997</td>\n",
       "      <td>5.914570e+06</td>\n",
       "    </tr>\n",
       "    <tr>\n",
       "      <th>25%</th>\n",
       "      <td>631.980499</td>\n",
       "      <td>641.310974</td>\n",
       "      <td>623.380005</td>\n",
       "      <td>634.510010</td>\n",
       "      <td>634.510010</td>\n",
       "      <td>8.621345e+07</td>\n",
       "    </tr>\n",
       "    <tr>\n",
       "      <th>50%</th>\n",
       "      <td>6551.520020</td>\n",
       "      <td>6653.299805</td>\n",
       "      <td>6450.040039</td>\n",
       "      <td>6556.100098</td>\n",
       "      <td>6556.100098</td>\n",
       "      <td>5.804840e+09</td>\n",
       "    </tr>\n",
       "    <tr>\n",
       "      <th>75%</th>\n",
       "      <td>11498.750000</td>\n",
       "      <td>11797.744629</td>\n",
       "      <td>11240.184570</td>\n",
       "      <td>11501.107422</td>\n",
       "      <td>11501.107422</td>\n",
       "      <td>2.625695e+10</td>\n",
       "    </tr>\n",
       "    <tr>\n",
       "      <th>max</th>\n",
       "      <td>67549.734375</td>\n",
       "      <td>68789.625000</td>\n",
       "      <td>66382.062500</td>\n",
       "      <td>67566.828125</td>\n",
       "      <td>67566.828125</td>\n",
       "      <td>3.509679e+11</td>\n",
       "    </tr>\n",
       "  </tbody>\n",
       "</table>\n",
       "</div>"
      ],
      "text/plain": [
       "               Open          High           Low         Close     Adj Close  \\\n",
       "count   2847.000000   2847.000000   2847.000000   2847.000000   2847.000000   \n",
       "mean   12424.499840  12747.549097  12061.046950  12429.378825  12429.378825   \n",
       "std    16592.544651  17020.981874  16094.974801  16587.755320  16587.755320   \n",
       "min      176.897003    211.731003    171.509995    178.102997    178.102997   \n",
       "25%      631.980499    641.310974    623.380005    634.510010    634.510010   \n",
       "50%     6551.520020   6653.299805   6450.040039   6556.100098   6556.100098   \n",
       "75%    11498.750000  11797.744629  11240.184570  11501.107422  11501.107422   \n",
       "max    67549.734375  68789.625000  66382.062500  67566.828125  67566.828125   \n",
       "\n",
       "             Volume  \n",
       "count  2.847000e+03  \n",
       "mean   1.541473e+10  \n",
       "std    1.992591e+10  \n",
       "min    5.914570e+06  \n",
       "25%    8.621345e+07  \n",
       "50%    5.804840e+09  \n",
       "75%    2.625695e+10  \n",
       "max    3.509679e+11  "
      ]
     },
     "execution_count": 5,
     "metadata": {},
     "output_type": "execute_result"
    }
   ],
   "source": [
    "#basic statistics of the dataset\n",
    "data.describe()"
   ]
  },
  {
   "cell_type": "code",
   "execution_count": 6,
   "metadata": {
    "colab": {
     "base_uri": "https://localhost:8080/",
     "height": 253
    },
    "id": "1JnjVcGu1G-Z",
    "outputId": "f3a5d06c-e5a2-4805-c7ed-514040d89312"
   },
   "outputs": [
    {
     "data": {
      "image/png": "[encoded data removed]",
      "text/plain": [
       "<Figure size 1440x1008 with 1 Axes>"
      ]
     },
     "metadata": {
      "needs_background": "light"
     },
     "output_type": "display_data"
    }
   ],
   "source": [
    "#TIme series visulization for all Prices.\n",
    "data['Date'] = pd.to_datetime(data.Date,format=\"%Y-%m-%d\")\n",
    "\n",
    "data.index=data['Date']\n",
    "\n",
    "plt.figure(figsize=(20,14))\n",
    "plt.subplot(2,1,1)\n",
    "plt.plot(data[\"Open\"],label='Open Price history')\n",
    "plt.plot(data[\"High\"],label='High Price history')\n",
    "plt.plot(data[\"Low\"],label='Low Price history')\n",
    "plt.plot(data[\"Close\"],label='Close Price history')\n",
    "plt.plot(data[\"Adj Close\"],label='Adj Close Price history')\n",
    "plt.grid()\n",
    "plt.legend()\n",
    "plt.show()"
   ]
  },
  {
   "cell_type": "code",
   "execution_count": 7,
   "metadata": {
    "id": "--6cxgss3yWY"
   },
   "outputs": [],
   "source": [
    "#Data Preprocessing\n",
    "#Min Max scaling for all close price (rescale between 0 to 1)\n",
    "#Prepared train test split by 2000 days data as training dataset and remaining 847 as testing dataset (total 2847 days data)\n",
    "\n",
    "from sklearn.preprocessing import MinMaxScaler\n",
    "\n",
    "#Sort data by date\n",
    "data1=data.sort_index(ascending=True,axis=0)\n",
    "new_dataset=pd.DataFrame(index=range(0,len(data)),columns=['Date','Close'])\n",
    "L=len(data)\n",
    "\n",
    "for i in range(0,len(data1)):\n",
    "    new_dataset[\"Date\"][i]=data1['Date'][i]\n",
    "    new_dataset[\"Close\"][i]=data1[\"Close\"][i]\n",
    "    \n",
    "#Normalize the Dataset\n",
    "scaler=MinMaxScaler(feature_range=(0,1))\n",
    "new_dataset.index=new_dataset.Date\n",
    "new_dataset.drop(\"Date\",axis=1,inplace=True)\n",
    "scaled_data=new_dataset.values\n",
    "train_data, test_data = scaled_data[0:2000], scaled_data[2000:]\n",
    "\n",
    "scaled_data=scaler.fit_transform(scaled_data.reshape(-1,1))\n",
    "\n",
    "x_train_data,y_train_data=[],[]\n",
    "\n",
    "for i in range(847 ,len(train_data)):\n",
    "    x_train_data.append(scaled_data[i-847 :i,0])\n",
    "    y_train_data.append(scaled_data[i,0])"
   ]
  },
  {
   "cell_type": "code",
   "execution_count": 8,
   "metadata": {
    "colab": {
     "base_uri": "https://localhost:8080/"
    },
    "id": "W_RumIn5DwX9",
    "outputId": "766dd893-985e-42e6-dd9a-e6c1333d603d"
   },
   "outputs": [
    {
     "data": {
      "text/plain": [
       "(array([[0.00414359],\n",
       "        [0.00365546],\n",
       "        [0.00321557],\n",
       "        ...,\n",
       "        [0.28330057],\n",
       "        [0.28289826],\n",
       "        [0.28073865]]),\n",
       " (2847, 1))"
      ]
     },
     "execution_count": 8,
     "metadata": {},
     "output_type": "execute_result"
    }
   ],
   "source": [
    "price_series = new_dataset.reset_index().Close.values\n",
    "\n",
    "scaler= MinMaxScaler(feature_range = (0, 1))\n",
    "price_series_scaled = scaler.fit_transform(price_series.reshape(-1,1))\n",
    "price_series_scaled, price_series_scaled.shape\n"
   ]
  },
  {
   "cell_type": "code",
   "execution_count": 9,
   "metadata": {
    "id": "e-eW50g7A4uZ"
   },
   "outputs": [],
   "source": [
    "#train test split by 2000 days and 847 days \n",
    "train_data, test_data = price_series_scaled[0:2000], price_series_scaled[2000:]"
   ]
  },
  {
   "cell_type": "code",
   "execution_count": 10,
   "metadata": {
    "id": "gMtvT26IKQCb"
   },
   "outputs": [],
   "source": [
    "def windowed_dataset(series, time_step):\n",
    "    dataX, dataY = [], []\n",
    "    for i in range(len(series)- time_step-1):\n",
    "        a = series[i : (i+time_step), 0]\n",
    "        dataX.append(a)\n",
    "        dataY.append(series[i+ time_step, 0])\n",
    "        \n",
    "    return np.array(dataX), np.array(dataY)"
   ]
  },
  {
   "cell_type": "code",
   "execution_count": 11,
   "metadata": {
    "colab": {
     "base_uri": "https://localhost:8080/"
    },
    "id": "E1Lthw87KS2b",
    "outputId": "ff33e379-f416-404c-ea57-fd06a5ad42ea"
   },
   "outputs": [
    {
     "data": {
      "text/plain": [
       "((1949, 50), (1949,), (796, 50), (796,))"
      ]
     },
     "execution_count": 11,
     "metadata": {},
     "output_type": "execute_result"
    }
   ],
   "source": [
    "#mearge data with timestep data\n",
    "X_train, y_train = windowed_dataset(train_data, time_step=50)\n",
    "X_test, y_test = windowed_dataset(test_data, time_step=50)\n",
    "X_train.shape, y_train.shape, X_test.shape, y_test.shape\n"
   ]
  },
  {
   "cell_type": "code",
   "execution_count": 12,
   "metadata": {
    "colab": {
     "base_uri": "https://localhost:8080/"
    },
    "id": "5mgGr6nNKYRP",
    "outputId": "ebec822f-4a98-4103-e201-94e9612808de"
   },
   "outputs": [
    {
     "name": "stdout",
     "output_type": "stream",
     "text": [
      "(1949, 50, 1)\n",
      "(796, 50, 1)\n"
     ]
    }
   ],
   "source": [
    "#reshape inputs to be [samples, timesteps, features] which is requred for LSTM\n",
    "\n",
    "X_train = X_train.reshape(X_train.shape[0], X_train.shape[1], 1)\n",
    "X_test = X_test.reshape(X_test.shape[0], X_test.shape[1], 1)\n",
    "\n",
    "\n",
    "print(X_train.shape) \n",
    "print(X_test.shape)"
   ]
  },
  {
   "cell_type": "code",
   "execution_count": 13,
   "metadata": {},
   "outputs": [
    {
     "name": "stdout",
     "output_type": "stream",
     "text": [
      "Metal device set to: Apple M1\n"
     ]
    },
    {
     "name": "stderr",
     "output_type": "stream",
     "text": [
      "2022-07-30 16:21:58.248035: I tensorflow/core/common_runtime/pluggable_device/pluggable_device_factory.cc:305] Could not identify NUMA node of platform GPU ID 0, defaulting to 0. Your kernel may not have been built with NUMA support.\n",
      "2022-07-30 16:21:58.248654: I tensorflow/core/common_runtime/pluggable_device/pluggable_device_factory.cc:271] Created TensorFlow device (/job:localhost/replica:0/task:0/device:GPU:0 with 0 MB memory) -> physical PluggableDevice (device: 0, name: METAL, pci bus id: <undefined>)\n",
      "2022-07-30 16:21:59.422842: W tensorflow/core/platform/profile_utils/cpu_utils.cc:128] Failed to get CPU frequency: 0 Hz\n",
      "2022-07-30 16:22:00.338785: I tensorflow/core/grappler/optimizers/custom_graph_optimizer_registry.cc:113] Plugin optimizer for device_type GPU is enabled.\n",
      "2022-07-30 16:22:00.493595: I tensorflow/core/grappler/optimizers/custom_graph_optimizer_registry.cc:113] Plugin optimizer for device_type GPU is enabled.\n",
      "2022-07-30 16:22:01.493959: I tensorflow/core/grappler/optimizers/custom_graph_optimizer_registry.cc:113] Plugin optimizer for device_type GPU is enabled.\n",
      "2022-07-30 16:22:02.580797: I tensorflow/core/grappler/optimizers/custom_graph_optimizer_registry.cc:113] Plugin optimizer for device_type GPU is enabled.\n",
      "2022-07-30 16:22:03.563581: I tensorflow/core/grappler/optimizers/custom_graph_optimizer_registry.cc:113] Plugin optimizer for device_type GPU is enabled.\n"
     ]
    },
    {
     "name": "stdout",
     "output_type": "stream",
     "text": [
      "1949/1949 [==============================] - 49s 23ms/step - loss: 1.5676e-04\n"
     ]
    },
    {
     "data": {
      "text/plain": [
       "<keras.callbacks.History at 0x156b07370>"
      ]
     },
     "execution_count": 13,
     "metadata": {},
     "output_type": "execute_result"
    }
   ],
   "source": [
    "#prepare RNN network LSTM\n",
    "from keras.models import Sequential\n",
    "from keras.layers import Dense, LSTM\n",
    "\n",
    "\n",
    "model = Sequential()\n",
    "model.add(LSTM(50, return_sequences = True, input_shape = (X_train.shape[1], 1)))\n",
    "model.add(LSTM(50, return_sequences = False))\n",
    "model.add(Dense(25))\n",
    "model.add(Dense(1))\n",
    "model.compile(optimizer = 'adam', loss = 'mean_squared_error')\n",
    "model.fit(X_train, y_train, batch_size = 1, epochs = 1,verbose=1)"
   ]
  },
  {
   "cell_type": "code",
   "execution_count": 14,
   "metadata": {},
   "outputs": [
    {
     "name": "stdout",
     "output_type": "stream",
     "text": [
      "Model: \"sequential\"\n",
      "_________________________________________________________________\n",
      " Layer (type)                Output Shape              Param #   \n",
      "=================================================================\n",
      " lstm (LSTM)                 (None, 50, 50)            10400     \n",
      "                                                                 \n",
      " lstm_1 (LSTM)               (None, 50)                20200     \n",
      "                                                                 \n",
      " dense (Dense)               (None, 25)                1275      \n",
      "                                                                 \n",
      " dense_1 (Dense)             (None, 1)                 26        \n",
      "                                                                 \n",
      "=================================================================\n",
      "Total params: 31,901\n",
      "Trainable params: 31,901\n",
      "Non-trainable params: 0\n",
      "_________________________________________________________________\n"
     ]
    }
   ],
   "source": [
    "model.summary()"
   ]
  },
  {
   "cell_type": "code",
   "execution_count": 15,
   "metadata": {
    "colab": {
     "base_uri": "https://localhost:8080/"
    },
    "id": "41ms-R61CIWB",
    "outputId": "4788094d-f427-4676-c3a6-d503beba2020"
   },
   "outputs": [
    {
     "name": "stderr",
     "output_type": "stream",
     "text": [
      "2022-07-30 16:22:49.057489: I tensorflow/core/grappler/optimizers/custom_graph_optimizer_registry.cc:113] Plugin optimizer for device_type GPU is enabled.\n",
      "2022-07-30 16:22:49.120112: I tensorflow/core/grappler/optimizers/custom_graph_optimizer_registry.cc:113] Plugin optimizer for device_type GPU is enabled.\n"
     ]
    },
    {
     "name": "stdout",
     "output_type": "stream",
     "text": [
      "\r",
      " 1/25 [>.............................] - ETA: 35s"
     ]
    },
    {
     "name": "stderr",
     "output_type": "stream",
     "text": [
      "2022-07-30 16:22:50.056844: I tensorflow/core/grappler/optimizers/custom_graph_optimizer_registry.cc:113] Plugin optimizer for device_type GPU is enabled.\n"
     ]
    },
    {
     "name": "stdout",
     "output_type": "stream",
     "text": [
      "25/25 [==============================] - 2s 16ms/step\n",
      "Mean Absolute Error - MAE : 0.045089028886694256\n",
      "Mean squared Error - mse : 0.0037892193669248845\n",
      "Root Mean squared Error - RMSE : 0.06155663544188299\n",
      "R2 square : 0.9406990784021536\n"
     ]
    }
   ],
   "source": [
    "#evalution matrics\n",
    "from sklearn.metrics import mean_absolute_percentage_error,mean_absolute_error,mean_squared_error\n",
    "from sklearn.metrics import r2_score\n",
    "\n",
    "predictions = model.predict(X_test)\n",
    "#predictions1 =scaler.inverse_transform(predictions)\n",
    "#predictions1\n",
    "print(\"Mean Absolute Error - MAE : \" + str(mean_absolute_error(y_test, predictions)))\n",
    "print(\"Mean squared Error - mse : \" + str(mean_squared_error(y_test, predictions)))\n",
    "print(\"Root Mean squared Error - RMSE : \" + str(np.sqrt(mean_squared_error(y_test, predictions))))\n",
    "LR_MAPE= mean_absolute_percentage_error(y_test, predictions)\n",
    "print(\"R2 square : \" + str(r2_score(y_test, predictions))) \n"
   ]
  },
  {
   "cell_type": "code",
   "execution_count": 16,
   "metadata": {
    "colab": {
     "base_uri": "https://localhost:8080/"
    },
    "id": "5DVXQXMOh3_7",
    "outputId": "32f028cc-fbbd-46a9-ce54-d9a4e6e3959b"
   },
   "outputs": [
    {
     "data": {
      "text/plain": [
       "796"
      ]
     },
     "execution_count": 16,
     "metadata": {},
     "output_type": "execute_result"
    }
   ],
   "source": [
    "#inverse scale for converting predicted data into orignal scale\n",
    "predictions1 =scaler.inverse_transform(predictions)\n",
    "len(predictions)"
   ]
  },
  {
   "cell_type": "code",
   "execution_count": 17,
   "metadata": {
    "colab": {
     "base_uri": "https://localhost:8080/",
     "height": 747
    },
    "id": "vs-QvaDUiHcS",
    "outputId": "dc6a6d3b-b12e-4d24-f851-6a6cfa600c20"
   },
   "outputs": [
    {
     "data": {
      "text/html": [
       "<div>\n",
       "<style scoped>\n",
       "    .dataframe tbody tr th:only-of-type {\n",
       "        vertical-align: middle;\n",
       "    }\n",
       "\n",
       "    .dataframe tbody tr th {\n",
       "        vertical-align: top;\n",
       "    }\n",
       "\n",
       "    .dataframe thead th {\n",
       "        text-align: right;\n",
       "    }\n",
       "</style>\n",
       "<table border=\"1\" class=\"dataframe\">\n",
       "  <thead>\n",
       "    <tr style=\"text-align: right;\">\n",
       "      <th></th>\n",
       "      <th>Close</th>\n",
       "      <th>Predictions</th>\n",
       "    </tr>\n",
       "    <tr>\n",
       "      <th>Date</th>\n",
       "      <th></th>\n",
       "      <th></th>\n",
       "    </tr>\n",
       "  </thead>\n",
       "  <tbody>\n",
       "    <tr>\n",
       "      <th>2020-04-29</th>\n",
       "      <td>8801.038086</td>\n",
       "      <td>7958.234375</td>\n",
       "    </tr>\n",
       "    <tr>\n",
       "      <th>2020-04-30</th>\n",
       "      <td>8658.553711</td>\n",
       "      <td>8061.288574</td>\n",
       "    </tr>\n",
       "    <tr>\n",
       "      <th>2020-05-01</th>\n",
       "      <td>8864.766602</td>\n",
       "      <td>8316.934570</td>\n",
       "    </tr>\n",
       "    <tr>\n",
       "      <th>2020-05-02</th>\n",
       "      <td>8988.59668</td>\n",
       "      <td>8578.599609</td>\n",
       "    </tr>\n",
       "    <tr>\n",
       "      <th>2020-05-03</th>\n",
       "      <td>8897.46875</td>\n",
       "      <td>8833.682617</td>\n",
       "    </tr>\n",
       "  </tbody>\n",
       "</table>\n",
       "</div>"
      ],
      "text/plain": [
       "                  Close  Predictions\n",
       "Date                                \n",
       "2020-04-29  8801.038086  7958.234375\n",
       "2020-04-30  8658.553711  8061.288574\n",
       "2020-05-01  8864.766602  8316.934570\n",
       "2020-05-02   8988.59668  8578.599609\n",
       "2020-05-03   8897.46875  8833.682617"
      ]
     },
     "execution_count": 17,
     "metadata": {},
     "output_type": "execute_result"
    }
   ],
   "source": [
    "train_data=new_dataset[:L-796]\n",
    "test_data=new_dataset[L-796:]\n",
    "test_data['Predictions']=predictions1\n",
    "test_data.head()\n"
   ]
  },
  {
   "cell_type": "code",
   "execution_count": 18,
   "metadata": {},
   "outputs": [
    {
     "name": "stdout",
     "output_type": "stream",
     "text": [
      "Starting Date for Training Dataset 2014-09-17 00:00:00\n",
      "Ending  Date for Training Dataset 2020-04-28 00:00:00\n",
      "  \n",
      "Starting Date for Testing Dataset 2020-04-29 00:00:00\n",
      "Ending  Date for Testing Dataset 2022-07-03 00:00:00\n"
     ]
    }
   ],
   "source": [
    "print(\"Starting Date for Training Dataset\",np.min(train_data.index))\n",
    "print(\"Ending  Date for Training Dataset\",np.max(train_data.index))\n",
    "print(\"  \")\n",
    "print(\"Starting Date for Testing Dataset\",np.min(test_data.index))\n",
    "print(\"Ending  Date for Testing Dataset\",np.max(test_data.index))"
   ]
  },
  {
   "cell_type": "code",
   "execution_count": 19,
   "metadata": {},
   "outputs": [
    {
     "data": {
      "image/png": "[encoded data removed]",
      "text/plain": [
       "<Figure size 1440x1008 with 1 Axes>"
      ]
     },
     "metadata": {
      "needs_background": "light"
     },
     "output_type": "display_data"
    }
   ],
   "source": [
    "#plot the real values and predicted values\n",
    "date_train = pd.to_datetime(train_data.index,format=\"%Y-%m-%d\")\n",
    "train_data.index=date_train\n",
    "\n",
    "date_test = pd.to_datetime(test_data.index,format=\"%Y-%m-%d\")\n",
    "test_data.index=date_test\n",
    "\n",
    "\n",
    "\n",
    "plt.figure(figsize=(20,14))\n",
    "plt.subplot(2,1,1)\n",
    "plt.plot(train_data[\"Close\"])\n",
    "plt.plot(test_data['Close'],label = \"Real Value\")\n",
    "plt.plot(test_data[\"Predictions\"],label = \"Prediction\")\n",
    "\n",
    "plt.grid()\n",
    "plt.legend()\n",
    "plt.show()"
   ]
  }
 ],
 "metadata": {
  "interpreter": {
   "hash": "daf315cb467656c841e90c668256d3caa92e41568cc40a1317a50f553c01c064"
  },
  "kernelspec": {
   "display_name": "Python 3 (ipykernel)",
   "language": "python",
   "name": "python3"
  },
  "language_info": {
   "codemirror_mode": {
    "name": "ipython",
    "version": 3
   },
   "file_extension": ".py",
   "mimetype": "text/x-python",
   "name": "python",
   "nbconvert_exporter": "python",
   "pygments_lexer": "ipython3",
   "version": "3.9.12"
  }
 },
 "nbformat": 4,
 "nbformat_minor": 2
}
